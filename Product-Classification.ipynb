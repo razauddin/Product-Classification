{
 "cells": [
  {
   "cell_type": "code",
   "execution_count": 1,
   "id": "bd710f03",
   "metadata": {},
   "outputs": [
    {
     "name": "stdout",
     "output_type": "stream",
     "text": [
      "The exact number of instances is:  61878\n",
      "The exact number of classes is:  Class_2    16122\n",
      "Class_6    14135\n",
      "Class_8     8464\n",
      "Class_3     8004\n",
      "Class_9     4955\n",
      "Class_7     2839\n",
      "Class_5     2739\n",
      "Class_4     2691\n",
      "Class_1     1929\n",
      "Name: target, dtype: int64\n",
      "0        0\n",
      "1        0\n",
      "2        0\n",
      "3        0\n",
      "4        0\n",
      "        ..\n",
      "61873    8\n",
      "61874    8\n",
      "61875    8\n",
      "61876    8\n",
      "61877    8\n",
      "Name: target, Length: 61878, dtype: int64\n"
     ]
    }
   ],
   "source": [
    "import pandas as pd\n",
    "from sklearn import preprocessing\n",
    "from sklearn.model_selection import train_test_split\n",
    "df = pd.read_csv(\"otto.csv\")\n",
    "\n",
    "#Printing out number of instances and classes\n",
    "icount = df[\"id\"].count()\n",
    "print(\"The exact number of instances is: \",icount)\n",
    "classCount = df['target'].value_counts()\n",
    "print(\"The exact number of classes is: \",classCount)\n",
    "\n",
    "#Converted non-numerical classes to numerical\n",
    "le = preprocessing.LabelEncoder()\n",
    "we = le.fit_transform(df['target'])\n",
    "df['target'] = we\n",
    "\n",
    "#Filtering out rows with 0s\n",
    "handle = False\n",
    "for i in range(df[\"id\"].count()):\n",
    "    rowFilt = df.iloc[i]\n",
    "    for y in range(rowFilt.count()):\n",
    "        if y == 0:\n",
    "            continue\n",
    "        elif y == rowFilt.count():\n",
    "            continue\n",
    "        else:\n",
    "            if rowFilt[y] == 0:\n",
    "                handle = True\n",
    "            else:\n",
    "                handle = False\n",
    "    if handle == True:\n",
    "        df.drop(rowFilt,axis = 0)\n",
    "    \n",
    "#Training and testing data\n",
    "\n",
    "y = df.loc[:,'target']\n",
    "X = df.drop(['id','target'], axis = 1)\n",
    "print(y)\n",
    "\n",
    "            \n",
    "\n",
    "    "
   ]
  },
  {
   "cell_type": "code",
   "execution_count": 2,
   "id": "a1a30348",
   "metadata": {},
   "outputs": [],
   "source": [
    "X_train, X_test, y_train, y_test = train_test_split(X,y, test_size = 0.20)"
   ]
  },
  {
   "cell_type": "code",
   "execution_count": 3,
   "id": "b462b3e2",
   "metadata": {},
   "outputs": [
    {
     "data": {
      "text/plain": [
       "0.7227200537035081"
      ]
     },
     "execution_count": 3,
     "metadata": {},
     "output_type": "execute_result"
    }
   ],
   "source": [
    "#2.2 Algorithim impelementation\n",
    "from sklearn.neighbors import KNeighborsClassifier\n",
    "from sklearn.metrics import f1_score\n",
    "knn = KNeighborsClassifier(n_neighbors = 3)\n",
    "knn.fit(X_train,y_train)\n",
    "pred4y1 = knn.predict(X_test)\n",
    "f1_knn = f1_score(y_test,pred4y1, average = 'macro')\n",
    "f1_knn"
   ]
  },
  {
   "cell_type": "code",
   "execution_count": 4,
   "id": "70c54736",
   "metadata": {},
   "outputs": [
    {
     "data": {
      "text/plain": [
       "0.647208239807836"
      ]
     },
     "execution_count": 4,
     "metadata": {},
     "output_type": "execute_result"
    }
   ],
   "source": [
    "from sklearn.ensemble import RandomForestClassifier\n",
    "stuff = RandomForestClassifier(n_estimators = 3)\n",
    "stuff.fit(X_train,y_train)\n",
    "pred4y2 = stuff.predict(X_test)\n",
    "f1_rfc = f1_score(y_test,pred4y2, average = 'macro')\n",
    "f1_rfc\n"
   ]
  },
  {
   "cell_type": "code",
   "execution_count": 5,
   "id": "eca0acd0",
   "metadata": {},
   "outputs": [
    {
     "data": {
      "text/plain": [
       "0.5366731773439437"
      ]
     },
     "execution_count": 5,
     "metadata": {},
     "output_type": "execute_result"
    }
   ],
   "source": [
    "from sklearn.naive_bayes import GaussianNB\n",
    "stuff2 = GaussianNB()\n",
    "stuff2.fit(X_train,y_train)\n",
    "pred4y3 = stuff2.predict(X_test)\n",
    "f1_gnb = f1_score(y_test,pred4y3, average = 'macro')\n",
    "f1_gnb\n"
   ]
  },
  {
   "cell_type": "code",
   "execution_count": 6,
   "id": "3eb8fc98",
   "metadata": {},
   "outputs": [
    {
     "data": {
      "image/png": "[encoded data removed]",
      "text/plain": [
       "<Figure size 432x288 with 2 Axes>"
      ]
     },
     "metadata": {
      "needs_background": "light"
     },
     "output_type": "display_data"
    }
   ],
   "source": [
    "#Visualization of of pair-wise correlation of the three algos\n",
    "import seaborn as sns\n",
    "import pandas as pd\n",
    "\n",
    "stuff3 = {'KNN': pred4y1,\n",
    "           'RFC': pred4y2,\n",
    "            'GNB': pred4y3}\n",
    "\n",
    "\n",
    "buddy = pd.DataFrame(stuff3)\n",
    "buddy\n",
    "yo = sns.heatmap(buddy.corr(),annot = True)"
   ]
  },
  {
   "cell_type": "markdown",
   "id": "c3cc40d9",
   "metadata": {},
   "source": [
    "# Analysis/Results\n",
    "\n",
    "Based on the results I found for the f1 measure for knn, random forest and gaussian nb I found that knn had\n",
    "the highest f1 measure being around 0.72, random forest having the second highest being around 0.64 and gaussian\n",
    "having the lowest one being around 0.53. I can conclude that for the f1 measure knn is the best, random forest\n",
    "comes second best and gaussian is last in terms of the scores I recieved. Therefore for this experiment KNN would\n",
    "best fit the standards that need to be met for the experiment.\n",
    " \n",
    "\n"
   ]
  },
  {
   "cell_type": "code",
   "execution_count": null,
   "id": "7e514961",
   "metadata": {},
   "outputs": [],
   "source": []
  },
  {
   "cell_type": "code",
   "execution_count": null,
   "id": "8d2c9c1d",
   "metadata": {},
   "outputs": [],
   "source": []
  }
 ],
 "metadata": {
  "kernelspec": {
   "display_name": "Python 3",
   "language": "python",
   "name": "python3"
  },
  "language_info": {
   "codemirror_mode": {
    "name": "ipython",
    "version": 3
   },
   "file_extension": ".py",
   "mimetype": "text/x-python",
   "name": "python",
   "nbconvert_exporter": "python",
   "pygments_lexer": "ipython3",
   "version": "3.8.8"
  }
 },
 "nbformat": 4,
 "nbformat_minor": 5
}
